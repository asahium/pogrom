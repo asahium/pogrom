{
 "cells": [
  {
   "cell_type": "code",
   "execution_count": 10,
   "id": "44e58d9f",
   "metadata": {},
   "outputs": [],
   "source": [
    "from collections import defaultdict\n",
    "import numpy as np\n",
    "import random\n",
    "import asyncio\n",
    "import itertools\n",
    "import matplotlib.pyplot as plt\n",
    "from math import sqrt\n",
    "from scipy.spatial.distance import pdist, squareform, euclidean\n",
    "from scipy.special import gamma\n",
    "from itertools import combinations, product\n",
    "from sklearn.cluster import DBSCAN\n",
    "import pandas as pd\n",
    "from sklearn.metrics import f1_score, mean_squared_error"
   ]
  },
  {
   "cell_type": "code",
   "execution_count": 11,
   "id": "a8a84de8",
   "metadata": {},
   "outputs": [],
   "source": [
    "data_0 = np.loadtxt(\"1.txt\").tolist()"
   ]
  },
  {
   "cell_type": "code",
   "execution_count": 14,
   "id": "af5a58c1",
   "metadata": {},
   "outputs": [],
   "source": [
    "def clusters_create(data_0):\n",
    "    data = []\n",
    "    for i in data_0:\n",
    "        data.append([i, 0])\n",
    "    clustering = DBSCAN(eps=0.01, min_samples=2).fit(data)\n",
    "    labels = clustering.labels_\n",
    "    labels = labels.tolist()\n",
    "    \n",
    "    lens = max(labels)\n",
    "    clusters = []\n",
    "    for i in range(lens + 2):\n",
    "        clusters.append([])\n",
    "        \n",
    "    for i in range(len(data)):\n",
    "        clusters[labels[i] + 1].append(data[i])\n",
    "    \n",
    "    maxim = 0\n",
    "    max_len = 0\n",
    "    for i in range(len(clusters)):\n",
    "        if len(clusters[i]) > max_len:\n",
    "            maxim = i\n",
    "            max_len = len(clusters[i])\n",
    "    \n",
    "    print(maxim, max_len)"
   ]
  },
  {
   "cell_type": "code",
   "execution_count": 15,
   "id": "0099eb07",
   "metadata": {},
   "outputs": [
    {
     "name": "stdout",
     "output_type": "stream",
     "text": [
      "8 25\n"
     ]
    }
   ],
   "source": [
    "clusters_create(data_0)"
   ]
  },
  {
   "cell_type": "code",
   "execution_count": null,
   "id": "dffc982a",
   "metadata": {},
   "outputs": [],
   "source": []
  },
  {
   "cell_type": "code",
   "execution_count": null,
   "id": "ba85575b",
   "metadata": {},
   "outputs": [],
   "source": []
  }
 ],
 "metadata": {
  "kernelspec": {
   "display_name": "Python 3 (ipykernel)",
   "language": "python",
   "name": "python3"
  },
  "language_info": {
   "codemirror_mode": {
    "name": "ipython",
    "version": 3
   },
   "file_extension": ".py",
   "mimetype": "text/x-python",
   "name": "python",
   "nbconvert_exporter": "python",
   "pygments_lexer": "ipython3",
   "version": "3.9.7"
  }
 },
 "nbformat": 4,
 "nbformat_minor": 5
}
