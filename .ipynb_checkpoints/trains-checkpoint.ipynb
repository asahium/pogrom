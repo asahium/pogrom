{
 "cells": [
  {
   "cell_type": "code",
   "execution_count": 1,
   "id": "e6b8f0a0",
   "metadata": {},
   "outputs": [],
   "source": [
    "from collections import defaultdict\n",
    "import numpy as np\n",
    "import random\n",
    "import asyncio\n",
    "import itertools\n",
    "import matplotlib.pyplot as plt\n",
    "from math import sqrt\n",
    "from scipy.spatial.distance import pdist, squareform, euclidean\n",
    "from scipy.special import gamma\n",
    "from itertools import combinations, product\n",
    "from sklearn.cluster import DBSCAN, OPTICS\n",
    "import csv\n",
    "import pandas as pd\n",
    "from sklearn.metrics import mean_absolute_percentage_error, mean_squared_error, mean_absolute_error"
   ]
  },
  {
   "cell_type": "code",
   "execution_count": 2,
   "id": "f9781014",
   "metadata": {},
   "outputs": [],
   "source": [
    "def clusters_create_dbscan(data_0):\n",
    "    data = []\n",
    "    for i in data_0:\n",
    "        data.append([i, 0])\n",
    "    clustering = DBSCAN(eps=0.05, min_samples=2).fit(data)\n",
    "    labels = clustering.labels_\n",
    "    labels = labels.tolist()\n",
    "    \n",
    "    lens = max(labels)\n",
    "    clusters = []\n",
    "    for i in range(lens + 2):\n",
    "        clusters.append([])\n",
    "        \n",
    "    for i in range(len(data)):\n",
    "        clusters[labels[i] + 1].append(data[i])\n",
    "    \n",
    "    maxim = 0\n",
    "    max_len = 0\n",
    "    for i in range(len(clusters)):\n",
    "        if len(clusters[i]) > max_len:\n",
    "            maxim = i\n",
    "            max_len = len(clusters[i])\n",
    "    \n",
    "    return np.average(clusters[maxim]) * 2"
   ]
  },
  {
   "cell_type": "code",
   "execution_count": 3,
   "id": "c6aa3e3f",
   "metadata": {},
   "outputs": [],
   "source": [
    "def clusters_create_optics(data_0):\n",
    "    data = []\n",
    "    for i in data_0:\n",
    "        data.append([i, 0])\n",
    "    clustering = OPTICS(min_samples=2).fit(data)\n",
    "    labels = clustering.labels_\n",
    "    labels = labels.tolist()\n",
    "    \n",
    "    lens = max(labels)\n",
    "    clusters = []\n",
    "    for i in range(lens + 2):\n",
    "        clusters.append([])\n",
    "        \n",
    "    for i in range(len(data)):\n",
    "        clusters[labels[i] + 1].append(data[i])\n",
    "    \n",
    "    maxim = 0\n",
    "    max_len = 0\n",
    "    for i in range(len(clusters)):\n",
    "        if len(clusters[i]) > max_len:\n",
    "            maxim = i\n",
    "            max_len = len(clusters[i])\n",
    "    \n",
    "    return np.average(clusters[maxim]) * 2"
   ]
  },
  {
   "cell_type": "code",
   "execution_count": 4,
   "id": "d57e3ee0",
   "metadata": {},
   "outputs": [],
   "source": [
    "a = [0, 0.123, 0.123, 0.123, 0.123, 0.675, 0, 0.675, 0.123, 0.123, 0.675, 0.123, 0.123, 1, 1, 1, 0.675, 0.675, 0.675, 0.123, 0.123, 0.123, 0.127, 0.126]"
   ]
  },
  {
   "cell_type": "code",
   "execution_count": 5,
   "id": "409b28b8",
   "metadata": {},
   "outputs": [
    {
     "name": "stdout",
     "output_type": "stream",
     "text": [
      "0\n",
      "0\n",
      "\n",
      "0.123\n",
      "0.123\n",
      "0.123\n",
      "0.123\n",
      "0.123\n",
      "0.123\n",
      "0.123\n",
      "0.123\n",
      "0.123\n",
      "0.123\n",
      "0.123\n",
      "\n",
      "0.127\n",
      "0.126\n",
      "\n",
      "0.675\n",
      "0.675\n",
      "0.675\n",
      "0.675\n",
      "0.675\n",
      "0.675\n",
      "\n",
      "1\n",
      "1\n",
      "1\n"
     ]
    },
    {
     "name": "stderr",
     "output_type": "stream",
     "text": [
      "/home/wurm/anaconda3/lib/python3.9/site-packages/sklearn/cluster/_optics.py:807: RuntimeWarning: divide by zero encountered in true_divide\n",
      "  ratio = reachability_plot[:-1] / reachability_plot[1:]\n"
     ]
    }
   ],
   "source": [
    "data = []\n",
    "for i in a:\n",
    "    data.append([i, 0])\n",
    "clustering = OPTICS(min_samples=2).fit(data)\n",
    "labels = clustering.labels_\n",
    "b = labels.tolist()\n",
    "for i in range(len(a)):\n",
    "    if b[i] == 0:\n",
    "        print(a[i])\n",
    "print()\n",
    "for i in range(len(a)):\n",
    "    if b[i] == 1:\n",
    "        print(a[i])\n",
    "print()\n",
    "for i in range(len(a)):\n",
    "    if b[i] == 2:\n",
    "        print(a[i])\n",
    "print()\n",
    "for i in range(len(a)):\n",
    "    if b[i] == 3:\n",
    "        print(a[i])\n",
    "print()\n",
    "for i in range(len(a)):\n",
    "    if b[i] == 4:\n",
    "        print(a[i])"
   ]
  },
  {
   "cell_type": "code",
   "execution_count": 12,
   "id": "7891a80c",
   "metadata": {},
   "outputs": [
    {
     "name": "stderr",
     "output_type": "stream",
     "text": [
      "/home/wurm/anaconda3/lib/python3.9/site-packages/sklearn/cluster/_optics.py:807: RuntimeWarning: divide by zero encountered in true_divide\n",
      "  ratio = reachability_plot[:-1] / reachability_plot[1:]\n"
     ]
    },
    {
     "data": {
      "text/plain": [
       "array([0, 1, 1, 1, 1, 3, 0, 3, 1, 1, 3, 1, 1, 4, 4, 4, 3, 3, 3, 1, 1, 1,\n",
       "       2, 2])"
      ]
     },
     "execution_count": 12,
     "metadata": {},
     "output_type": "execute_result"
    }
   ],
   "source": [
    "data = []\n",
    "for i in a:\n",
    "    data.append([i, 0])\n",
    "clustering = OPTICS(min_samples=2).fit(data)\n",
    "labels = clustering.labels_\n",
    "labels"
   ]
  },
  {
   "cell_type": "code",
   "execution_count": 11,
   "id": "61664868",
   "metadata": {},
   "outputs": [
    {
     "data": {
      "text/plain": [
       "[0, 1, 1, 1, 1, 3, 0, 3, 1, 1, 3, 1, 1, 4, 4, 4, 3, 3, 3, 1, 1, 1, 2, 2]"
      ]
     },
     "execution_count": 11,
     "metadata": {},
     "output_type": "execute_result"
    }
   ],
   "source": [
    "b"
   ]
  },
  {
   "cell_type": "code",
   "execution_count": 10,
   "id": "c9e81113",
   "metadata": {},
   "outputs": [
    {
     "name": "stdout",
     "output_type": "stream",
     "text": [
      "0\n",
      "0\n",
      "\n",
      "0.123\n",
      "0.123\n",
      "0.123\n",
      "0.123\n",
      "0.123\n",
      "0.123\n",
      "0.123\n",
      "0.123\n",
      "0.123\n",
      "0.123\n",
      "0.123\n",
      "0.127\n",
      "0.126\n",
      "\n",
      "0.675\n",
      "0.675\n",
      "0.675\n",
      "0.675\n",
      "0.675\n",
      "0.675\n",
      "\n",
      "1\n",
      "1\n",
      "1\n"
     ]
    }
   ],
   "source": [
    "data_1 = []\n",
    "for i in a:\n",
    "    data_1.append([i, 0])\n",
    "clustering_1 = DBSCAN(eps=0.05, min_samples=2).fit(data_1)\n",
    "labels_1 = clustering_1.labels_\n",
    "b_1 = labels_1.tolist()\n",
    "for i in range(len(a)):\n",
    "    if b_1[i] == 0:\n",
    "        print(a[i])\n",
    "print()\n",
    "for i in range(len(a)):\n",
    "    if b_1[i] == 1:\n",
    "        print(a[i])\n",
    "print()\n",
    "for i in range(len(a)):\n",
    "    if b_1[i] == 2:\n",
    "        print(a[i])\n",
    "print()\n",
    "for i in range(len(a)):\n",
    "    if b_1[i] == 3:\n",
    "        print(a[i])"
   ]
  },
  {
   "cell_type": "code",
   "execution_count": 7,
   "id": "f2c36b71",
   "metadata": {},
   "outputs": [
    {
     "name": "stderr",
     "output_type": "stream",
     "text": [
      "/home/wurm/anaconda3/lib/python3.9/site-packages/sklearn/cluster/_optics.py:807: RuntimeWarning: divide by zero encountered in true_divide\n",
      "  ratio = reachability_plot[:-1] / reachability_plot[1:]\n"
     ]
    },
    {
     "data": {
      "text/plain": [
       "0.123"
      ]
     },
     "execution_count": 7,
     "metadata": {},
     "output_type": "execute_result"
    }
   ],
   "source": [
    "clusters_create_optics(a)"
   ]
  },
  {
   "cell_type": "code",
   "execution_count": 8,
   "id": "bc0bbc20",
   "metadata": {},
   "outputs": [
    {
     "data": {
      "text/plain": [
       "0.12353846153846153"
      ]
     },
     "execution_count": 8,
     "metadata": {},
     "output_type": "execute_result"
    }
   ],
   "source": [
    "clusters_create_dbscan(a)"
   ]
  },
  {
   "cell_type": "code",
   "execution_count": null,
   "id": "dd30ecee",
   "metadata": {},
   "outputs": [],
   "source": []
  },
  {
   "cell_type": "code",
   "execution_count": null,
   "id": "481c64d6",
   "metadata": {},
   "outputs": [],
   "source": []
  },
  {
   "cell_type": "code",
   "execution_count": null,
   "id": "0ee88c1f",
   "metadata": {},
   "outputs": [],
   "source": []
  }
 ],
 "metadata": {
  "kernelspec": {
   "display_name": "Python 3 (ipykernel)",
   "language": "python",
   "name": "python3"
  },
  "language_info": {
   "codemirror_mode": {
    "name": "ipython",
    "version": 3
   },
   "file_extension": ".py",
   "mimetype": "text/x-python",
   "name": "python",
   "nbconvert_exporter": "python",
   "pygments_lexer": "ipython3",
   "version": "3.9.7"
  }
 },
 "nbformat": 4,
 "nbformat_minor": 5
}
