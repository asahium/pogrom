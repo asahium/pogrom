{
 "cells": [
  {
   "cell_type": "code",
   "execution_count": null,
   "id": "3f53bec0",
   "metadata": {},
   "outputs": [],
   "source": []
  },
  {
   "cell_type": "code",
   "execution_count": null,
   "id": "c23658b5",
   "metadata": {},
   "outputs": [],
   "source": [
    "from collections import defaultdict\n",
    "import numpy as np\n",
    "import random\n",
    "import asyncio\n",
    "import itertools\n",
    "import matplotlib.pyplot as plt\n",
    "from math import sqrt\n",
    "import pandas as pd\n",
    "from sklearn.metrics import f1_score, mean_squared_error"
   ]
  },
  {
   "cell_type": "code",
   "execution_count": null,
   "id": "b055de3f",
   "metadata": {},
   "outputs": [],
   "source": []
  },
  {
   "cell_type": "code",
   "execution_count": null,
   "id": "e86f9054",
   "metadata": {},
   "outputs": [],
   "source": [
    "epsilon = 0.05"
   ]
  },
  {
   "cell_type": "code",
   "execution_count": null,
   "id": "f1e069aa",
   "metadata": {},
   "outputs": [],
   "source": []
  },
  {
   "cell_type": "code",
   "execution_count": null,
   "id": "fe76a599",
   "metadata": {},
   "outputs": [],
   "source": [
    "class Lorentz:\n",
    "    def __init__(self, s = 10, r = 28, b = 8/3):\n",
    "        self.s = s\n",
    "        self.r = r\n",
    "        self.b = b\n",
    "\n",
    "    def X(self, x, y, s):\n",
    "        return s * (y - x)\n",
    "\n",
    "    def Y(self, x, y, z, r):\n",
    "        return (-x) * z + r * x - y\n",
    "\n",
    "    def Z(self, x, y, z, b):\n",
    "        return x * y - b * z\n",
    "\n",
    "    def RK4(self, x, y, z, s, r, b, dt):\n",
    "        k_1 = self.X(x, y, s)\n",
    "        l_1 = self.Y(x, y, z, r)\n",
    "        m_1 = self.Z(x, y, z, b)\n",
    "\n",
    "        k_2 = self.X((x + k_1 * dt * 0.5), (y + l_1 * dt * 0.5), s)\n",
    "        l_2 = self.Y((x + k_1 * dt * 0.5), (y + l_1 * dt * 0.5), (z + m_1 * dt * 0.5), r)\n",
    "        m_2 = self.Z((x + k_1 * dt * 0.5), (y + l_1 * dt * 0.5), (z + m_1 * dt * 0.5), b)\n",
    "\n",
    "        k_3 = self.X((x + k_2 * dt * 0.5), (y + l_2 * dt * 0.5), s)\n",
    "        l_3 = self.Y((x + k_2 * dt * 0.5), (y + l_2 * dt * 0.5), (z + m_2 * dt * 0.5), r)\n",
    "        m_3 = self.Z((x + k_2 * dt * 0.5), (y + l_2 * dt * 0.5), (z + m_2 * dt * 0.5), b)\n",
    "\n",
    "        k_4 = self.X((x + k_3 * dt), (y + l_3 * dt), s)\n",
    "        l_4 = self.Y((x + k_3 * dt), (y + l_3 * dt), (z + m_3 * dt), r)\n",
    "        m_4 = self.Z((x + k_3 * dt), (y + l_3 * dt), (z + m_3 * dt), b)\n",
    "\n",
    "        x += (k_1 + 2 * k_2 + 2 * k_3 + k_4) * dt * (1/6)\n",
    "        y += (l_1 + 2 * l_2 + 2 * l_3 + l_4) * dt * (1/6)\n",
    "        z += (m_1 + 2 * m_2 + 2 * m_3 + m_4) * dt * (1/6)\n",
    "\n",
    "        return (x, y, z)\n",
    "\n",
    "    def generate(self, dt, steps):\n",
    "        x_0, y_0, z_0 = 1, 1, 1\n",
    "\n",
    "        x_list = [x_0]\n",
    "        y_list = [y_0]\n",
    "        z_list = [z_0]\n",
    "\n",
    "        i = 0\n",
    "\n",
    "        while i < steps:\n",
    "            x = x_list[i]\n",
    "            y = y_list[i]\n",
    "            z = z_list[i]\n",
    "\n",
    "            position = self.RK4(x, y, z, self.s, self.r, self.b, dt)\n",
    "\n",
    "            x_list.append(position[0])\n",
    "            y_list.append(position[1])\n",
    "            z_list.append(position[2])\n",
    "\n",
    "            i += 1\n",
    "\n",
    "        x_array = np.array(x_list)\n",
    "        y_array = np.array(y_list)\n",
    "        z_array = np.array(z_list)\n",
    "\n",
    "        return x_array, y_array, z_array"
   ]
  },
  {
   "cell_type": "code",
   "execution_count": null,
   "id": "441691bd",
   "metadata": {},
   "outputs": [],
   "source": [
    "xs, _, _ = Lorentz().generate(0.1, 10399)\n",
    "xs = (xs - xs.min()) / (xs.max() - xs.min())"
   ]
  },
  {
   "cell_type": "code",
   "execution_count": null,
   "id": "38303981",
   "metadata": {},
   "outputs": [],
   "source": [
    "plt.figure(figsize=(20, 8))\n",
    "plt.plot(xs[:1000])\n",
    "plt.xticks([i for i in range(0, 1000, 50)])\n",
    "plt.grid()\n",
    "plt.show()"
   ]
  },
  {
   "cell_type": "code",
   "execution_count": null,
   "id": "0cad8b63",
   "metadata": {},
   "outputs": [],
   "source": [
    "list_for_delete = []\n",
    "for i in range(300):\n",
    "    list_for_delete.append(i)\n",
    "\n",
    "xs = np.delete(xs, list_for_delete)\n",
    "\n",
    "xs_train, xs_test = np.split(xs, [10000])\n",
    "#xs_test = np.split(xs, [500])[1]\n",
    "print(len(xs_train), len(xs_test))"
   ]
  },
  {
   "cell_type": "code",
   "execution_count": null,
   "id": "12c87704",
   "metadata": {},
   "outputs": [],
   "source": []
  },
  {
   "cell_type": "code",
   "execution_count": null,
   "id": "e3a441a3",
   "metadata": {},
   "outputs": [],
   "source": [
    "def create_pat(xs, size_of_pattern, lenght_of_pattern):\n",
    "    list_of_index = []\n",
    "    for i in range(len(xs)):\n",
    "        list_of_index.append(i)\n",
    "\n",
    "    list_of_tuples_with_index = []\n",
    "    \n",
    "    for subseq in itertools.combinations(list_of_index, size_of_pattern):\n",
    "            list_of_tuples_with_index.append(subseq)\n",
    "    \n",
    "    list_with_values = []\n",
    "    for i in list_of_tuples_with_index:\n",
    "        current_tuple = [False] * (i[-1] - i[0] + 1)\n",
    "        for j in i:\n",
    "            current_tuple[j - i[0]] = xs[j]\n",
    "        if (len(current_tuple) <= lenght_of_pattern):\n",
    "            list_with_values.append(current_tuple)\n",
    "    return list_with_values"
   ]
  },
  {
   "cell_type": "code",
   "execution_count": null,
   "id": "393f5244",
   "metadata": {},
   "outputs": [],
   "source": [
    "%%time\n",
    "\n",
    "s3_l5_patterns = create_pat(xs_train, 3, 5)\n",
    "np.savetxt('s3_l5_patterns.txt', s3_l5_patterns)\n",
    "print(\"s3_l5_patterns done\")\n",
    "\n",
    "#s4_l5_patterns = create_pat(xs_train, 4, 5)\n",
    "\n",
    "s4_l10_patterns = create_pat(xs_train, 4, 10)\n",
    "np.savetxt('s4_l10_patterns.txt', s4_l10_patterns)\n",
    "print(\"s4_l10_patterns done\")\n",
    "\n",
    "#s10_l10_patterns = create_pat(xs_train, 10, 10)\n",
    "\n",
    "#s10_l20_patterns = create_pat(xs_train, 10, 20)"
   ]
  },
  {
   "cell_type": "code",
   "execution_count": null,
   "id": "fe6112cc",
   "metadata": {},
   "outputs": [],
   "source": []
  },
  {
   "cell_type": "code",
   "execution_count": null,
   "id": "eef15906",
   "metadata": {},
   "outputs": [],
   "source": [
    "i = 0\n",
    "xs_test_real = [0] * len(xs_test)\n",
    "\n",
    "\n",
    "for x in xs_test:\n",
    "    xs_test_real[i] = xs_test[i] \n",
    "    if (i % 5) == 0:\n",
    "        xs_test[i] = False\n",
    "    i += 1"
   ]
  },
  {
   "cell_type": "code",
   "execution_count": null,
   "id": "467bc3a3",
   "metadata": {},
   "outputs": [],
   "source": []
  },
  {
   "cell_type": "code",
   "execution_count": null,
   "id": "3617e5af",
   "metadata": {},
   "outputs": [],
   "source": [
    "def make_prediction(p, q):\n",
    "    lists_with_list_with_predicted_values = [0] * int(len(p))\n",
    "    for i in range(len(lists_with_list_with_predicted_values)):\n",
    "        lists_with_list_with_predicted_values[i] = []\n",
    "\n",
    "    for i in range(len(p)):\n",
    "        for j in q:\n",
    "            if len(j) <= (len(p) - i):\n",
    "                counter = 0\n",
    "                counter_for_missed_points = 0\n",
    "                for k in range(len(j)): \n",
    "                    if j[k]:\n",
    "                        if not p[i + k]:\n",
    "                            counter_for_missed_points += 1\n",
    "                        elif abs(p[i + k] - j[k]) <= epsilon:\n",
    "                            counter += 1\n",
    "                if (counter >= len(j) - counter_for_missed_points):\n",
    "                    for k in range(len(j)):\n",
    "                        lists_with_list_with_predicted_values[i + k].append(j[k])\n",
    "                        #print(j[k], \"добавлено число в элемент\", i + k)\n",
    "    for i in range(len(lists_with_list_with_predicted_values)):\n",
    "        lists_with_list_with_predicted_values[i] = np.average(lists_with_list_with_predicted_values[i])\n",
    "    return lists_with_list_with_predicted_values"
   ]
  },
  {
   "cell_type": "code",
   "execution_count": null,
   "id": "8e7a950d",
   "metadata": {},
   "outputs": [],
   "source": []
  },
  {
   "cell_type": "code",
   "execution_count": null,
   "id": "e23d4596",
   "metadata": {},
   "outputs": [],
   "source": [
    "%%time\n",
    "\n",
    "s3_l3_xs_test = xs_test\n",
    "i = 0\n",
    "\n",
    "s3_l3_predicted = make_prediction(s3_l3_xs_test, s3_l3_patterns)\n",
    "\n",
    "while (mean_squared_error(s3_l3_predicted, xs_test_real, squared=False) > epsilon) or (i < 99):\n",
    "    s3_l3_predicted = make_prediction(s3_l3_xs_test, s3_l3_patterns)\n",
    "    s3_l3_xs_test = s3_l3_predicted\n",
    "    i += 1\n",
    "\n",
    "print(mean_squared_error(s3_l3_predicted, xs_test_real, squared=False), i + 1)"
   ]
  },
  {
   "cell_type": "code",
   "execution_count": null,
   "id": "2ab71cd6",
   "metadata": {},
   "outputs": [],
   "source": [
    "plt.figure(figsize=(20, 8))\n",
    "plt.plot(s3_l3_predicted)\n",
    "plt.plot(xs_test_real)\n",
    "plt.xticks([i for i in range(0, 100, 50)])\n",
    "plt.grid() \n",
    "plt.show()"
   ]
  },
  {
   "cell_type": "code",
   "execution_count": null,
   "id": "8c38d9ba",
   "metadata": {},
   "outputs": [],
   "source": []
  },
  {
   "cell_type": "code",
   "execution_count": null,
   "id": "8bcaa3b6",
   "metadata": {},
   "outputs": [],
   "source": []
  },
  {
   "cell_type": "code",
   "execution_count": null,
   "id": "5a4841a2",
   "metadata": {},
   "outputs": [],
   "source": []
  },
  {
   "cell_type": "code",
   "execution_count": null,
   "id": "9002f0ac",
   "metadata": {},
   "outputs": [],
   "source": []
  }
 ],
 "metadata": {
  "kernelspec": {
   "display_name": "Python 3 (ipykernel)",
   "language": "python",
   "name": "python3"
  },
  "language_info": {
   "codemirror_mode": {
    "name": "ipython",
    "version": 3
   },
   "file_extension": ".py",
   "mimetype": "text/x-python",
   "name": "python",
   "nbconvert_exporter": "python",
   "pygments_lexer": "ipython3",
   "version": "3.9.7"
  }
 },
 "nbformat": 4,
 "nbformat_minor": 5
}
