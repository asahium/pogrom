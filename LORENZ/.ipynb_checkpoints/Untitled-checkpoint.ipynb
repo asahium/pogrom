{
 "cells": [
  {
   "cell_type": "code",
   "execution_count": 1,
   "id": "ea0e671a",
   "metadata": {},
   "outputs": [],
   "source": [
    "from collections import defaultdict\n",
    "import numpy as np\n",
    "import pdb\n",
    "import dill\n",
    "import random\n",
    "import itertools\n",
    "import matplotlib.pyplot as plt\n",
    "from math import sqrt\n",
    "import pandas as pd\n",
    "from sklearn.metrics import f1_score, confusion_matrix, silhouette_score, davies_bouldin_score, mean_squared_error"
   ]
  },
  {
   "cell_type": "code",
   "execution_count": 2,
   "id": "cd78e493",
   "metadata": {},
   "outputs": [],
   "source": [
    "def create_pat(xs, size_of_pattern, lenght_of_pattern):\n",
    "    list_of_index = []\n",
    "    for i in range(len(xs)):\n",
    "        list_of_index.append(i)\n",
    "    \n",
    "    list_of_tuples_with_index = list(itertools.combinations(list_of_index, size_of_pattern))\n",
    "    list_with_values = []\n",
    "    for i in list_of_tuples_with_index:\n",
    "        current_tuple = [False] * (i[-1] - i[0] + 1)\n",
    "        for j in i:\n",
    "            current_tuple[j - i[0]] = xs[j]\n",
    "        if (len(current_tuple) <= lenght_of_pattern):\n",
    "            list_with_values.append(current_tuple)\n",
    "    return list_with_values"
   ]
  },
  {
   "cell_type": "code",
   "execution_count": 3,
   "id": "db163ffe",
   "metadata": {},
   "outputs": [],
   "source": [
    "p = [0.3413, 0.1345256, 0.345354, 0.7896789, 0.1234, 0.67876]\n",
    "q = create_pat(p, 3, 3)"
   ]
  },
  {
   "cell_type": "code",
   "execution_count": 4,
   "id": "2cd4c93e",
   "metadata": {},
   "outputs": [],
   "source": [
    "epsilon = 0.05"
   ]
  },
  {
   "cell_type": "code",
   "execution_count": 5,
   "id": "2ebbb067",
   "metadata": {},
   "outputs": [
    {
     "data": {
      "text/plain": [
       "[[0.3413, 0.1345256, 0.345354],\n",
       " [0.1345256, 0.345354, 0.7896789],\n",
       " [0.345354, 0.7896789, 0.1234],\n",
       " [0.7896789, 0.1234, 0.67876]]"
      ]
     },
     "execution_count": 5,
     "metadata": {},
     "output_type": "execute_result"
    }
   ],
   "source": [
    "q"
   ]
  },
  {
   "cell_type": "code",
   "execution_count": 6,
   "id": "7503eb43",
   "metadata": {},
   "outputs": [],
   "source": [
    "def make_predict(p, q):\n",
    "    lists_with_list_with_predicted_values = [0] * int(len(p))\n",
    "    for i in range(len(lists_with_list_with_predicted_values)):\n",
    "        lists_with_list_with_predicted_values[i] = []\n",
    "\n",
    "    for i in range(len(p)):\n",
    "        for j in q:\n",
    "            if len(j) <= (len(p) - i):\n",
    "                counter = 0\n",
    "                for k in range(len(j)):\n",
    "                    if j[k]:\n",
    "                        if abs(p[i + k] - j[k]) <= epsilon:\n",
    "                            counter += 1\n",
    "                if (counter == len(j)):\n",
    "                    for k in range(len(j)):\n",
    "                        lists_with_list_with_predicted_values[i + k].append(j[k])\n",
    "                        print(j[k], \"добавлено число в элемент\", i + k)\n",
    "    return lists_with_list_with_predicted_values"
   ]
  },
  {
   "cell_type": "code",
   "execution_count": 7,
   "id": "afd7fadc",
   "metadata": {},
   "outputs": [
    {
     "name": "stdout",
     "output_type": "stream",
     "text": [
      "0.3413 добавлено число в элемент 0\n",
      "0.1345256 добавлено число в элемент 1\n",
      "0.345354 добавлено число в элемент 2\n",
      "0.1345256 добавлено число в элемент 1\n",
      "0.345354 добавлено число в элемент 2\n",
      "0.7896789 добавлено число в элемент 3\n",
      "0.345354 добавлено число в элемент 2\n",
      "0.7896789 добавлено число в элемент 3\n",
      "0.1234 добавлено число в элемент 4\n",
      "0.7896789 добавлено число в элемент 3\n",
      "0.1234 добавлено число в элемент 4\n",
      "0.67876 добавлено число в элемент 5\n"
     ]
    },
    {
     "data": {
      "text/plain": [
       "[[0.3413],\n",
       " [0.1345256, 0.1345256],\n",
       " [0.345354, 0.345354, 0.345354],\n",
       " [0.7896789, 0.7896789, 0.7896789],\n",
       " [0.1234, 0.1234],\n",
       " [0.67876]]"
      ]
     },
     "execution_count": 7,
     "metadata": {},
     "output_type": "execute_result"
    }
   ],
   "source": [
    "predicted = make_predict(p, q)\n",
    "predicted"
   ]
  },
  {
   "cell_type": "code",
   "execution_count": null,
   "id": "db72a689",
   "metadata": {},
   "outputs": [],
   "source": []
  }
 ],
 "metadata": {
  "kernelspec": {
   "display_name": "Python 3 (ipykernel)",
   "language": "python",
   "name": "python3"
  },
  "language_info": {
   "codemirror_mode": {
    "name": "ipython",
    "version": 3
   },
   "file_extension": ".py",
   "mimetype": "text/x-python",
   "name": "python",
   "nbconvert_exporter": "python",
   "pygments_lexer": "ipython3",
   "version": "3.9.7"
  }
 },
 "nbformat": 4,
 "nbformat_minor": 5
}
