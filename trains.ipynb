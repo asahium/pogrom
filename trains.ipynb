{
 "cells": [
  {
   "cell_type": "code",
   "execution_count": 1,
   "id": "e6b8f0a0",
   "metadata": {},
   "outputs": [],
   "source": [
    "from collections import defaultdict\n",
    "import numpy as np\n",
    "import random\n",
    "import asyncio\n",
    "import itertools\n",
    "import matplotlib.pyplot as plt\n",
    "from math import sqrt\n",
    "from scipy.spatial.distance import pdist, squareform, euclidean\n",
    "from scipy.special import gamma\n",
    "from itertools import combinations, product\n",
    "from sklearn.cluster import DBSCAN, OPTICS\n",
    "import csv\n",
    "import pandas as pd\n",
    "from sklearn.metrics import mean_absolute_percentage_error, mean_squared_error, mean_absolute_error"
   ]
  },
  {
   "cell_type": "code",
   "execution_count": null,
   "id": "01d8d400",
   "metadata": {},
   "outputs": [],
   "source": []
  },
  {
   "cell_type": "code",
   "execution_count": 2,
   "id": "4b96776e",
   "metadata": {},
   "outputs": [],
   "source": [
    "def clusters_create_dbscan(data_0):\n",
    "    data = []\n",
    "    for i in data_0:\n",
    "        data.append([i, 0])\n",
    "    clustering = DBSCAN(eps=0.01, min_samples=2).fit(data)\n",
    "    labels = clustering.labels_\n",
    "    labels = labels.tolist()\n",
    "    \n",
    "    lens = max(labels)\n",
    "    clusters = []\n",
    "    for i in range(lens + 2):\n",
    "        clusters.append([])\n",
    "        \n",
    "    for i in range(len(data)):\n",
    "        clusters[labels[i] + 1].append(data[i])\n",
    "    \n",
    "    maxim = 0\n",
    "    max_len = 0\n",
    "    for i in range(len(clusters)):\n",
    "        if len(clusters[i]) > max_len:\n",
    "            maxim = i\n",
    "            max_len = len(clusters[i])\n",
    "    \n",
    "    return np.average(clusters[maxim])"
   ]
  },
  {
   "cell_type": "code",
   "execution_count": 3,
   "id": "99647e59",
   "metadata": {},
   "outputs": [],
   "source": [
    "def clusters_create_optics(data_0):\n",
    "    data = []\n",
    "    for i in data_0:\n",
    "        data.append([i, 0])\n",
    "    clustering = OPTICS(min_samples=2).fit(data)\n",
    "    labels = clustering.labels_\n",
    "    labels = labels.tolist()\n",
    "    \n",
    "    lens = max(labels)\n",
    "    clusters = []\n",
    "    for i in range(lens + 2):\n",
    "        clusters.append([])\n",
    "        \n",
    "    for i in range(len(data)):\n",
    "        clusters[labels[i] + 1].append(data[i])\n",
    "    \n",
    "    maxim = 0\n",
    "    max_len = 0\n",
    "    for i in range(len(clusters)):\n",
    "        if len(clusters[i]) > max_len:\n",
    "            maxim = i\n",
    "            max_len = len(clusters[i])\n",
    "    \n",
    "    return np.average(clusters[maxim])"
   ]
  },
  {
   "cell_type": "code",
   "execution_count": 4,
   "id": "b7909f80",
   "metadata": {},
   "outputs": [],
   "source": [
    "l = [0.542408647169584, 0.5699021669796471, 0.5938395278621514, 0.5707724924259158, 0.5734289039382914, 0.5426502771417804, 0.5538277066171343, 0.5351204379501269, 0.6039795858788848, 0.5884531418989819, 0.6015665161644371, 0.5394904509043491, 0.5608245487897001, 0.5539890000772137, 0.5189914201142158, 0.5368846158969351, 0.5288241845760933, 0.5638267540848814, 0.5390996878079467, 0.5796652252321961, 0.6069377189862598, 0.5465942905606908, 0.5448637908512937, 0.535274150819666, 0.5420140470382002, 0.5724690359982391, 0.5528134865741164, 0.6076778578708815, 0.5377232197560154, 0.5262770188458347, 0.5956519146491877, 0.5168846993602211, 0.559641956206041, 0.5594827806469896, 0.5837998446511485, 0.5297001710567966, 0.546628376775322, 0.5813663144721787, 0.5932981732998113, 0.6013564262128909, 0.5590190805807655, 0.5952754550506274, 0.5500289684212692, 0.5863428394673, 0.5421325141468051, 0.5485359912020856, 0.5650489908171603, 0.5502829640249308, 0.5987320833627049, 0.553150459604618, 0.5829244087421919, 0.5417256339066193, 0.5119581413825768, 0.5839355694989848, 0.5105082138081353, 0.5590290535996865, 0.5539492339042049, 0.5692156374676797, 0.5264466116696835]"
   ]
  },
  {
   "cell_type": "code",
   "execution_count": 5,
   "id": "a0f6e98e",
   "metadata": {},
   "outputs": [
    {
     "data": {
      "text/plain": [
       "0.2798834103118668"
      ]
     },
     "execution_count": 5,
     "metadata": {},
     "output_type": "execute_result"
    }
   ],
   "source": [
    "clusters_create_dbscan(l)"
   ]
  },
  {
   "cell_type": "code",
   "execution_count": 6,
   "id": "15484fce",
   "metadata": {},
   "outputs": [
    {
     "data": {
      "text/plain": [
       "0.29116913625967"
      ]
     },
     "execution_count": 6,
     "metadata": {},
     "output_type": "execute_result"
    }
   ],
   "source": [
    "clusters_create_optics(l)"
   ]
  },
  {
   "cell_type": "code",
   "execution_count": null,
   "id": "6360fce8",
   "metadata": {},
   "outputs": [],
   "source": []
  },
  {
   "cell_type": "code",
   "execution_count": null,
   "id": "d55cdf25",
   "metadata": {},
   "outputs": [],
   "source": []
  }
 ],
 "metadata": {
  "kernelspec": {
   "display_name": "Python 3 (ipykernel)",
   "language": "python",
   "name": "python3"
  },
  "language_info": {
   "codemirror_mode": {
    "name": "ipython",
    "version": 3
   },
   "file_extension": ".py",
   "mimetype": "text/x-python",
   "name": "python",
   "nbconvert_exporter": "python",
   "pygments_lexer": "ipython3",
   "version": "3.9.7"
  }
 },
 "nbformat": 4,
 "nbformat_minor": 5
}
