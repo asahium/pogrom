{
 "cells": [
  {
   "cell_type": "code",
   "execution_count": 1,
   "id": "e6b8f0a0",
   "metadata": {},
   "outputs": [],
   "source": [
    "from collections import defaultdict\n",
    "import numpy as np\n",
    "import random\n",
    "import asyncio\n",
    "import itertools\n",
    "import matplotlib.pyplot as plt\n",
    "from math import sqrt\n",
    "from scipy.spatial.distance import pdist, squareform, euclidean\n",
    "from scipy.special import gamma\n",
    "from itertools import combinations, product\n",
    "from sklearn.cluster import DBSCAN\n",
    "import pandas as pd\n",
    "from sklearn.metrics import f1_score, mean_squared_error"
   ]
  },
  {
   "cell_type": "code",
   "execution_count": 2,
   "id": "b5e4d93a",
   "metadata": {},
   "outputs": [],
   "source": [
    "data_0 = np.loadtxt(\"1.txt\").tolist()"
   ]
  },
  {
   "cell_type": "code",
   "execution_count": 3,
   "id": "f5df15f6",
   "metadata": {},
   "outputs": [],
   "source": [
    "def clusters_create(data_0):\n",
    "    data = []\n",
    "    for i in data_0:\n",
    "        data.append([i, 0])\n",
    "    clustering = DBSCAN(eps=0.01, min_samples=2).fit(data)\n",
    "    labels = clustering.labels_\n",
    "    labels = labels.tolist()\n",
    "    \n",
    "    lens = max(labels)\n",
    "    clusters = []\n",
    "    for i in range(lens + 2):\n",
    "        clusters.append([])\n",
    "        \n",
    "    for i in range(len(data)):\n",
    "        clusters[labels[i] + 1].append(data[i])\n",
    "    \n",
    "    maxim = 0\n",
    "    max_len = 0\n",
    "    for i in range(len(clusters)):\n",
    "        if len(clusters[i]) > max_len:\n",
    "            maxim = i\n",
    "            max_len = len(clusters[i])\n",
    "    \n",
    "    return np.average(clusters[maxim])"
   ]
  },
  {
   "cell_type": "code",
   "execution_count": 4,
   "id": "745b134c",
   "metadata": {},
   "outputs": [
    {
     "data": {
      "text/plain": [
       "0.22442149328014874"
      ]
     },
     "execution_count": 4,
     "metadata": {},
     "output_type": "execute_result"
    }
   ],
   "source": [
    "clusters_create(data_0)"
   ]
  },
  {
   "cell_type": "code",
   "execution_count": null,
   "id": "b378662e",
   "metadata": {},
   "outputs": [],
   "source": []
  },
  {
   "cell_type": "code",
   "execution_count": 5,
   "id": "f3a0eb05",
   "metadata": {},
   "outputs": [],
   "source": [
    "def remove_points(my_list, percentage):\n",
    "    new_list = [0] * len(my_list)\n",
    "    todrop = random.sample(range(len(my_list)), len(my_list) - round(len(my_list)*percentage))\n",
    "    for i in range(len(my_list)):\n",
    "        if i not in todrop:\n",
    "            new_list[i] = False\n",
    "        else:\n",
    "            new_list[i] = my_list[i]\n",
    "    return new_list"
   ]
  },
  {
   "cell_type": "code",
   "execution_count": 6,
   "id": "2195bdc1",
   "metadata": {},
   "outputs": [
    {
     "name": "stdout",
     "output_type": "stream",
     "text": [
      "100 50\n"
     ]
    },
    {
     "data": {
      "text/plain": [
       "[False,\n",
       " False,\n",
       " False,\n",
       " False,\n",
       " 0.8071305178817035,\n",
       " 0.6126963873590359,\n",
       " 0.5254099874487781,\n",
       " False,\n",
       " False,\n",
       " 0.5328470404642187,\n",
       " 0.5779595875223092,\n",
       " False,\n",
       " False,\n",
       " False,\n",
       " 0.7251716677626908,\n",
       " 0.5417571554051449,\n",
       " False,\n",
       " 0.41928271334425077,\n",
       " 0.344071120341981,\n",
       " False,\n",
       " 0.0965291085623442,\n",
       " 0.22458977569720417,\n",
       " 0.3800476974394521,\n",
       " 0.4343166076914131,\n",
       " 0.4169444980615153,\n",
       " 0.3469985963802576,\n",
       " False,\n",
       " 0.09278691560790445,\n",
       " 0.21773255747180909,\n",
       " 0.38166614469457594,\n",
       " 0.44656714398059527,\n",
       " 0.43841238241324537,\n",
       " False,\n",
       " False,\n",
       " False,\n",
       " 0.1400710824199098,\n",
       " 0.3259959410028469,\n",
       " 0.4384356908046919,\n",
       " False,\n",
       " False,\n",
       " 0.4125869390371602,\n",
       " 0.32687804505518603,\n",
       " 0.16279961945534052,\n",
       " 0.09461875121038148,\n",
       " 0.2634971514871307,\n",
       " False,\n",
       " 0.4882031884806504,\n",
       " False,\n",
       " False,\n",
       " 0.6327501549479992,\n",
       " False,\n",
       " 0.9095651026297038,\n",
       " False,\n",
       " False,\n",
       " False,\n",
       " False,\n",
       " False,\n",
       " False,\n",
       " False,\n",
       " False,\n",
       " False,\n",
       " 0.3917698629045777,\n",
       " False,\n",
       " 0.5029456394936507,\n",
       " False,\n",
       " False,\n",
       " False,\n",
       " 0.8290831107240422,\n",
       " False,\n",
       " 0.7251716677626908,\n",
       " False,\n",
       " False,\n",
       " False,\n",
       " 0.3498876306247814,\n",
       " False,\n",
       " False,\n",
       " 0.21298372579439848,\n",
       " False,\n",
       " False,\n",
       " 0.46264054788306863,\n",
       " False,\n",
       " 0.39293726782318206,\n",
       " False,\n",
       " 0.10792061898907519,\n",
       " False,\n",
       " False,\n",
       " 0.4628607644203964,\n",
       " 0.5085227681179585,\n",
       " 0.5439465109859642,\n",
       " 0.5992626509310943,\n",
       " False,\n",
       " 0.8690101684459449,\n",
       " False,\n",
       " False,\n",
       " 0.5402786348970477,\n",
       " 0.5041115833213654,\n",
       " False,\n",
       " 0.4667054527868933,\n",
       " 0.4233370825930494,\n",
       " 0.3227557344648046]"
      ]
     },
     "execution_count": 6,
     "metadata": {},
     "output_type": "execute_result"
    }
   ],
   "source": [
    "new_list = remove_points(data_0, 0.5)\n",
    "print(len(new_list), new_list.count(False))\n",
    "new_list"
   ]
  },
  {
   "cell_type": "code",
   "execution_count": null,
   "id": "25259c1c",
   "metadata": {},
   "outputs": [],
   "source": []
  }
 ],
 "metadata": {
  "kernelspec": {
   "display_name": "Python 3 (ipykernel)",
   "language": "python",
   "name": "python3"
  },
  "language_info": {
   "codemirror_mode": {
    "name": "ipython",
    "version": 3
   },
   "file_extension": ".py",
   "mimetype": "text/x-python",
   "name": "python",
   "nbconvert_exporter": "python",
   "pygments_lexer": "ipython3",
   "version": "3.9.7"
  }
 },
 "nbformat": 4,
 "nbformat_minor": 5
}
